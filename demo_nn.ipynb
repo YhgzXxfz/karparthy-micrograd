{
 "cells": [
  {
   "cell_type": "code",
   "execution_count": 1,
   "metadata": {},
   "outputs": [],
   "source": [
    "import math\n",
    "import numpy as np\n",
    "import matplotlib.pyplot as plt\n",
    "%matplotlib inline"
   ]
  },
  {
   "cell_type": "code",
   "execution_count": 2,
   "metadata": {},
   "outputs": [
    {
     "data": {
      "text/plain": [
       "Value(data=-0.9820340570912175, grad=0.0)"
      ]
     },
     "execution_count": 2,
     "metadata": {},
     "output_type": "execute_result"
    }
   ],
   "source": [
    "from core.nn import Neuron\n",
    "\n",
    "x = [-3.0, 2.0]\n",
    "n = Neuron(2)\n",
    "n(x)"
   ]
  },
  {
   "cell_type": "code",
   "execution_count": 3,
   "metadata": {},
   "outputs": [
    {
     "data": {
      "text/plain": [
       "[Value(data=-0.9224743344749735, grad=0.0),\n",
       " Value(data=-0.9873709970716383, grad=0.0),\n",
       " Value(data=-0.6197675067505486, grad=0.0)]"
      ]
     },
     "execution_count": 3,
     "metadata": {},
     "output_type": "execute_result"
    }
   ],
   "source": [
    "from core.nn import Layer\n",
    "\n",
    "x = [-3.0, 2.0]\n",
    "layer = Layer(2, 3)\n",
    "layer(x)"
   ]
  },
  {
   "cell_type": "code",
   "execution_count": 4,
   "metadata": {},
   "outputs": [
    {
     "data": {
      "text/plain": [
       "[Value(data=-0.750552870461108, grad=0.0)]"
      ]
     },
     "execution_count": 4,
     "metadata": {},
     "output_type": "execute_result"
    }
   ],
   "source": [
    "from core.nn import MLP\n",
    "\n",
    "x = [-3.0, 2.0]\n",
    "mlp = MLP(2, [3, 4, 1])\n",
    "mlp(x)"
   ]
  },
  {
   "cell_type": "markdown",
   "metadata": {},
   "source": [
    "# Training"
   ]
  },
  {
   "cell_type": "code",
   "execution_count": 1,
   "metadata": {},
   "outputs": [],
   "source": [
    "xs = [\n",
    "    [2.0, 3.0, -1.0],\n",
    "    [3.0, -1.0, 0.5],\n",
    "    [0.5, 1.0, 1.0],\n",
    "    [1.0, 1.0, -1.0],\n",
    "]\n",
    "ys = [1.0, -1.0, -1.0, 1.0]  # desired targets"
   ]
  },
  {
   "cell_type": "code",
   "execution_count": 2,
   "metadata": {},
   "outputs": [],
   "source": [
    "import random\n",
    "import numpy as np\n",
    "from core.nn import MLP\n",
    "\n",
    "random.seed(233)\n",
    "np.random.seed(233)\n",
    "\n",
    "model = MLP(3, [4, 4, 1])"
   ]
  },
  {
   "cell_type": "code",
   "execution_count": 3,
   "metadata": {},
   "outputs": [
    {
     "data": {
      "text/plain": [
       "[Value(data=-0.2904919458389672, grad=0.0),\n",
       " Value(data=0.15106247098405412, grad=0.0),\n",
       " Value(data=-0.28697032246754506, grad=0.0),\n",
       " Value(data=-0.2485231815946984, grad=0.0)]"
      ]
     },
     "execution_count": 3,
     "metadata": {},
     "output_type": "execute_result"
    }
   ],
   "source": [
    "ypred = [model(x) for x in xs]\n",
    "ypred"
   ]
  },
  {
   "cell_type": "code",
   "execution_count": 4,
   "metadata": {},
   "outputs": [
    {
     "name": "stdout",
     "output_type": "stream",
     "text": [
      "0: 5.057535730404545\n",
      "1: 3.9019637000581167\n",
      "2: 3.4925024579268524\n",
      "3: 3.0745930499301197\n",
      "4: 2.598831289141032\n",
      "5: 2.0305217562979205\n",
      "6: 1.3867579615582757\n",
      "7: 0.8438826966640466\n",
      "8: 0.5241633336101631\n",
      "9: 0.35476128174628735\n",
      "10: 0.25900111875182985\n",
      "11: 0.19992932507136413\n",
      "12: 0.16074148394491258\n",
      "13: 0.1332311832491803\n",
      "14: 0.11304789762943776\n",
      "15: 0.09771359162082213\n",
      "16: 0.08572998853343893\n",
      "17: 0.07614535907405441\n",
      "18: 0.06832977191844884\n",
      "19: 0.06185160127104666\n",
      "20: 0.05640625579221131\n",
      "21: 0.0517732744768438\n",
      "22: 0.04778954030608742\n",
      "23: 0.044332017354995965\n",
      "24: 0.04130631122003199\n",
      "25: 0.03863889948181857\n",
      "26: 0.03627173798607789\n",
      "27: 0.034158442371884166\n",
      "28: 0.03226153671818577\n",
      "29: 0.030550439233172744\n",
      "30: 0.028999966030765705\n",
      "31: 0.027589204956880747\n",
      "32: 0.02630065762192285\n",
      "33: 0.025119578451226393\n",
      "34: 0.02403346025969285\n",
      "35: 0.023031630048934704\n",
      "36: 0.02210492860057539\n",
      "37: 0.02124545440418988\n",
      "38: 0.020446357432352232\n",
      "39: 0.019701671869111325\n",
      "40: 0.019006179523290943\n",
      "41: 0.01835529759507594\n",
      "42: 0.017744985907433716\n",
      "43: 0.0171716697986859\n",
      "44: 0.016632175694868898\n",
      "45: 0.016123677008885104\n",
      "46: 0.015643648497214217\n",
      "47: 0.01518982758006203\n",
      "48: 0.014760181423642407\n",
      "49: 0.014352878813335692\n",
      "50: 0.013966266028297989\n",
      "51: 0.013598846072652\n",
      "52: 0.013249260733943582\n",
      "53: 0.012916275032404003\n",
      "54: 0.012598763699550711\n",
      "55: 0.012295699385512494\n",
      "56: 0.012006142344074256\n",
      "57: 0.011729231385054245\n",
      "58: 0.011464175917024049\n",
      "59: 0.011210248930952132\n",
      "60: 0.010966780798200071\n",
      "61: 0.010733153775306575\n",
      "62: 0.010508797123859692\n",
      "63: 0.01029318276704879\n",
      "64: 0.010085821415654606\n",
      "65: 0.009886259105656632\n",
      "66: 0.009694074097596862\n",
      "67: 0.009508874094597346\n",
      "68: 0.00933029374167379\n",
      "69: 0.009157992373889062\n",
      "70: 0.008991651985083416\n",
      "71: 0.008830975392511922\n",
      "72: 0.00867568457581128\n",
      "73: 0.008525519171379736\n",
      "74: 0.008380235105555155\n",
      "75: 0.008239603351966239\n",
      "76: 0.008103408800160743\n",
      "77: 0.00797144922411629\n",
      "78: 0.007843534340547235\n",
      "79: 0.007719484948065562\n",
      "80: 0.007599132139251175\n",
      "81: 0.007482316578564756\n",
      "82: 0.007368887839804224\n",
      "83: 0.007258703797483092\n",
      "84: 0.007151630067104656\n",
      "85: 0.007047539489833091\n",
      "86: 0.006946311657525973\n",
      "87: 0.006847832474507038\n",
      "88: 0.00675199375282101\n",
      "89: 0.006658692838039114\n",
      "90: 0.006567832262970396\n",
      "91: 0.006479319426893584\n",
      "92: 0.006393066298151732\n",
      "93: 0.006308989138158039\n",
      "94: 0.006227008245044421\n",
      "95: 0.006147047715348897\n",
      "96: 0.0060690352222847275\n",
      "97: 0.0059929018092674795\n",
      "98: 0.005918581697494601\n",
      "99: 0.005846012106479188\n"
     ]
    }
   ],
   "source": [
    "learning_rate = 0.05\n",
    "\n",
    "for epoch in range(100):\n",
    "    # Forward pass\n",
    "    ypred = [model(x) for x in xs]\n",
    "\n",
    "    # Loss\n",
    "    loss = sum((yp - yi) ** 2 for yp, yi in zip(ypred, ys))\n",
    "    print(f\"{epoch}: {loss.data}\")\n",
    "\n",
    "    # Zero grad\n",
    "    model.zero_grad()\n",
    "\n",
    "    # Back Prop\n",
    "    loss.backward()\n",
    "\n",
    "    # Update\n",
    "    for p in model.parameters():\n",
    "        p.data += -learning_rate * p.grad"
   ]
  },
  {
   "cell_type": "code",
   "execution_count": 5,
   "metadata": {},
   "outputs": [
    {
     "data": {
      "text/plain": [
       "[Value(data=0.9672926176742385, grad=-0.06541476465152307),\n",
       " Value(data=-0.9695731360498172, grad=0.060853727900365584),\n",
       " Value(data=-0.9578415223714999, grad=0.08431695525700023),\n",
       " Value(data=0.9544686046548102, grad=-0.09106279069037959)]"
      ]
     },
     "execution_count": 5,
     "metadata": {},
     "output_type": "execute_result"
    }
   ],
   "source": [
    "ypred"
   ]
  }
 ],
 "metadata": {
  "kernelspec": {
   "display_name": "karpathy-nlp",
   "language": "python",
   "name": "python3"
  },
  "language_info": {
   "codemirror_mode": {
    "name": "ipython",
    "version": 3
   },
   "file_extension": ".py",
   "mimetype": "text/x-python",
   "name": "python",
   "nbconvert_exporter": "python",
   "pygments_lexer": "ipython3",
   "version": "3.10.13"
  }
 },
 "nbformat": 4,
 "nbformat_minor": 2
}
